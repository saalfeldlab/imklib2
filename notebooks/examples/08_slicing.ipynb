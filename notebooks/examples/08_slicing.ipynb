{
 "cells": [
  {
   "cell_type": "markdown",
   "metadata": {},
   "source": [
    "# Slicing\n",
    "\n",
    "Users coming from Python, and in particular NumPy, are familiar and used to powerful slicing operations. I tried to mirror that behavior for `RandomAccessibleInterval` to some extent and adopt in imklib as much as possible. As of now, only basic slicing is supported. Unfortunately, the very concise Python syntax for slicing, i.e.\n",
    "```python\n",
    "start:stop:step\n",
    "```\n",
    "where any of `start`, `stop`, `step` can be omitted, cannot be translated to Kotlin verbatim. Instead, I introduced a `Slicing` interface that can be either an `Ellipsis` (equivalent to `...` in Python) or a `Slice` (equivalent to `slice` in Python). For brevity, I introduced the following convenience functions with Python equivalent in comments (all functions are overloaded for combinations of `Long`/`Int` but only the `Long` overloads are presented, for brevity):\n",
    "```Kotlin\n",
    "infix fun Long.sl(stop: Long): Slice   // this:stop\n",
    "infix fun Slice.st(step: Long): Slice  // slice.start:slice.stop:step\n",
    "val Long.start: Slice                  // this:\n",
    "val Long.stop: Slice                   // :this\n",
    "val Long.step: Slice                   // ::this\n",
    "```\n",
    "The `Ellipsis` has a single instance that can be accessed via `_el` (name may change in the future).\n",
    "\n",
    "**Note**: `min` and `max` of a `RandomAccessibleInterval` are not considered and `RandomAccessibleInterval.isZeroMin` is enforced."
   ]
  },
  {
   "cell_type": "code",
   "execution_count": 1,
   "metadata": {},
   "outputs": [],
   "source": [
    "// set up dependencies\n",
    "// use local maven repository; not yet deployed to remote maven repositories.\n",
    "@file:Repository(\"*mavenLocal\")\n",
    "@file:Repository(\"https://maven.scijava.org/content/groups/public\")\n",
    "@file:Repository(\"https://jitpack.io\")\n",
    "\n",
    "// uncomment to search in your local maven repo\n",
    "// requires installation into local maven repository (./gradlew build publishToMavenLocal)\n",
    "@file:DependsOn(\"net.imglib2:imklib2:0.1.0-SNAPSHOT\")\n",
    "\n",
    "// uncomment to search in jitpack\n",
    "// @file:DependsOn(\"com.github.saalfeldlab:imklib2:08e9ae3d9eed2672caef868d80ea5778273d0da9\")"
   ]
  },
  {
   "cell_type": "code",
   "execution_count": 2,
   "metadata": {},
   "outputs": [],
   "source": [
    "import net.imglib2.imklib.*"
   ]
  },
  {
   "cell_type": "markdown",
   "metadata": {},
   "source": [
    "## Examples\n",
    "\n",
    "### 1D"
   ]
  },
  {
   "cell_type": "code",
   "execution_count": 3,
   "metadata": {},
   "outputs": [
    {
     "name": "stdout",
     "output_type": "stream",
     "text": [
      "ArrayImg [10]: [0, 1, 2, 3, 4, 5, 6, 7, 8, 9]\n",
      "net.imglib2.view.SubsampleIntervalView@145f37c4: [0, 1, 2, 3, 4, 5, 6, 7, 8, 9]\n",
      "net.imglib2.view.SubsampleIntervalView@1ac5db01: [0, 1, 2, 3, 4, 5, 6, 7, 8, 9]\n",
      "net.imglib2.view.SubsampleIntervalView@610c68f5: [3, 4, 5, 6, 7, 8, 9]\n",
      "net.imglib2.view.SubsampleIntervalView@e31e8cb: [3, 4, 5, 6, 7, 8, 9]\n",
      "net.imglib2.view.SubsampleIntervalView@1fe05ad6: [0, 1, 2, 3, 4, 5, 6]\n",
      "net.imglib2.view.SubsampleIntervalView@668edc17: [0, 3, 6, 9]\n",
      "net.imglib2.view.SubsampleIntervalView@3cce7415: [9, 6, 3, 0]\n",
      "net.imglib2.view.SubsampleIntervalView@7abc9db: [1, 2, 3, 4, 5, 6, 7, 8]\n",
      "net.imglib2.view.SubsampleIntervalView@3cf8ae5d: [1, 2, 3, 4, 5, 6, 7, 8]\n",
      "net.imglib2.view.SubsampleIntervalView@67c655c6: [1, 6]\n",
      "net.imglib2.view.SubsampleIntervalView@7ebd36ea: [1, 6]\n",
      "net.imglib2.view.SubsampleIntervalView@2781cdf7: [8, 3]\n",
      "net.imglib2.view.SubsampleIntervalView@5e72151c: [8, 3]\n",
      "net.imglib2.view.SubsampleIntervalView@b4f0371: []\n"
     ]
    }
   ],
   "source": [
    "val img = imklib.ints(10) { it }\n",
    "println(img.flatStringRepresentation)\n",
    "println(img[_el].flatStringRepresentation)\n",
    "println(img[Slice()].flatStringRepresentation)\n",
    "println(img[3.start].flatStringRepresentation)\n",
    "println(img.translate(1345315L)[3.start].flatStringRepresentation)\n",
    "println(img[7.stop].flatStringRepresentation)\n",
    "println(img[3.step].flatStringRepresentation)\n",
    "println(img[(-3).step].flatStringRepresentation)\n",
    "println(img[1 sl 9].flatStringRepresentation)\n",
    "println(img[1 sl -1].flatStringRepresentation)\n",
    "println(img[1 sl 9 st 5].flatStringRepresentation)\n",
    "println(img[1 sl -1 st 5].flatStringRepresentation)\n",
    "println(img[1 sl 9 st -5].flatStringRepresentation)\n",
    "println(img[1 sl -1 st -5].flatStringRepresentation)\n",
    "println(img[1 sl 1].flatStringRepresentation)"
   ]
  },
  {
   "cell_type": "markdown",
   "metadata": {},
   "source": [
    "### 2D"
   ]
  },
  {
   "cell_type": "code",
   "execution_count": 4,
   "metadata": {},
   "outputs": [
    {
     "name": "stdout",
     "output_type": "stream",
     "text": [
      "IntervalView [(0) -- (1) = 2]: [0, 1]\n",
      "IntervalView [(0) -- (1) = 2]: [2, 3]\n",
      "IntervalView [(0) -- (1) = 2]: [4, 5]\n",
      "\n",
      "IntervalView [(0) -- (1) = 2]: [1, 0]\n",
      "IntervalView [(0) -- (1) = 2]: [3, 2]\n",
      "IntervalView [(0) -- (1) = 2]: [5, 4]\n",
      "\n",
      "IntervalView [(0) -- (1) = 2]: [4, 5]\n",
      "IntervalView [(0) -- (1) = 2]: [2, 3]\n",
      "IntervalView [(0) -- (1) = 2]: [0, 1]\n",
      "\n",
      "IntervalView [(0) -- (1) = 2]: [5, 4]\n",
      "IntervalView [(0) -- (1) = 2]: [3, 2]\n",
      "IntervalView [(0) -- (1) = 2]: [1, 0]\n",
      "\n",
      "IntervalView [(0) -- (1) = 2]: [5, 4]\n",
      "IntervalView [(0) -- (1) = 2]: [3, 2]\n",
      "\n",
      "IntervalView [(0) -- (1) = 2]: [5, 4]\n",
      "IntervalView [(0) -- (1) = 2]: [1, 0]\n"
     ]
    }
   ],
   "source": [
    "val img = imklib.ints(2, 3) { it }\n",
    "img.hyperSlicesList(1).forEach { println(it.flatStringRepresentation) }\n",
    "println()\n",
    "img[(-1).step].hyperSlicesList(1).forEach { println(it.flatStringRepresentation) }\n",
    "println()\n",
    "img[_el, (-1).step].hyperSlicesList(1).forEach { println(it.flatStringRepresentation) }\n",
    "println()\n",
    "img[(-1).step, (-1).step].hyperSlicesList(1).forEach { println(it.flatStringRepresentation) }\n",
    "println()\n",
    "img[(-1).step, 1 sl 3 st -1].hyperSlicesList(1).forEach { println(it.flatStringRepresentation) }\n",
    "println()\n",
    "img[(-1).step, 3.stop st -2].hyperSlicesList(1).forEach { println(it.flatStringRepresentation) }"
   ]
  }
 ],
 "metadata": {
  "kernelspec": {
   "display_name": "Kotlin",
   "language": "kotlin",
   "name": "kotlin"
  },
  "language_info": {
   "codemirror_mode": "text/x-kotlin",
   "file_extension": ".kt",
   "mimetype": "text/x-kotlin",
   "name": "kotlin",
   "pygments_lexer": "kotlin",
   "version": "1.4.20-dev-2342"
  }
 },
 "nbformat": 4,
 "nbformat_minor": 4
}
