{
 "cells": [
  {
   "cell_type": "code",
   "execution_count": 1,
   "metadata": {},
   "outputs": [
    {
     "data": {
      "text/html": [
       "   <div id=\"1cypzG\"></div>\n",
       "   <script type=\"text/javascript\" data-lets-plot-script=\"library\">\n",
       "       if(!window.letsPlotCallQueue) {\n",
       "           window.letsPlotCallQueue = [];\n",
       "       }; \n",
       "       window.letsPlotCall = function(f) {\n",
       "           window.letsPlotCallQueue.push(f);\n",
       "       };\n",
       "       (function() {\n",
       "           var script = document.createElement(\"script\");\n",
       "           script.type = \"text/javascript\";\n",
       "           script.src = \"https://dl.bintray.com/jetbrains/lets-plot/lets-plot-1.5.4.min.js\";\n",
       "           script.onload = function() {\n",
       "               window.letsPlotCall = function(f) {f();};\n",
       "               window.letsPlotCallQueue.forEach(function(f) {f();});\n",
       "               window.letsPlotCallQueue = [];\n",
       "               \n",
       "               \n",
       "           };\n",
       "           script.onerror = function(event) {\n",
       "               window.letsPlotCall = function(f) {};\n",
       "               window.letsPlotCallQueue = [];\n",
       "               var div = document.createElement(\"div\");\n",
       "               div.style.color = 'darkred';\n",
       "               div.textContent = 'Error loading Lets-Plot JS';\n",
       "               document.getElementById(\"1cypzG\").appendChild(div);\n",
       "           };\n",
       "           var e = document.getElementById(\"1cypzG\");\n",
       "           e.appendChild(script);\n",
       "       })();\n",
       "   </script>"
      ]
     },
     "metadata": {},
     "output_type": "display_data"
    }
   ],
   "source": [
    "// set up dependencies\n",
    "// use local maven repository; not yet deployed to remote maven repositories.\n",
    "@file:Repository(\"*mavenLocal\")\n",
    "@file:Repository(\"https://maven.scijava.org/content/groups/public\")\n",
    "@file:Repository(\"https://jitpack.io\")\n",
    "\n",
    "// uncomment to search in your local maven repo\n",
    "// requires installation into local maven repository (./gradlew build publishToMavenLocal)\n",
    "@file:DependsOn(\"net.imglib2:imklib2:0.1.0-SNAPSHOT\")\n",
    "\n",
    "// uncomment to search in jitpack\n",
    "// @file:DependsOn(\"com.github.saalfeldlab:imklib2:26c21b71795e20d94a90a35b4700ae0c66044bdf\")\n",
    "\n",
    "// Add BDV vistools dependency for visualization\n",
    "@file:DependsOn(\"sc.fiji:bigdataviewer-vistools:1.0.0-beta-21\")\n",
    "\n",
    "%use lets-plot"
   ]
  },
  {
   "cell_type": "code",
   "execution_count": 2,
   "metadata": {},
   "outputs": [],
   "source": [
    "import kotlin.math.sqrt\n",
    "\n",
    "import java.nio.file.Paths\n",
    "\n",
    "import bdv.util.BdvFunctions\n",
    "import bdv.util.BdvOptions\n",
    "import bdv.viewer.DisplayMode\n",
    "\n",
    "import net.imglib2.Point\n",
    "import net.imglib2.imklib.*\n",
    "import net.imglib2.type.numeric.integer.UnsignedByteType"
   ]
  },
  {
   "cell_type": "code",
   "execution_count": 3,
   "metadata": {},
   "outputs": [],
   "source": [
    "// only do gradient in xy\n",
    "val gradientDimensions = intArrayOf(0, 1)\n",
    "// anisotropic data -> anisotropic cache block size\n",
    "val cacheBlockSize = intArrayOf(32, 32, 3)"
   ]
  },
  {
   "cell_type": "markdown",
   "metadata": {},
   "source": [
    "Download an HDF5 data set with 3D volumetric data, e.g. one of the [CREMI](https://cremi.org/data/) data sets. Update the paths in the next cell accordingly"
   ]
  },
  {
   "cell_type": "code",
   "execution_count": 4,
   "metadata": {},
   "outputs": [],
   "source": [
    "val path = Paths.get(System.getProperty(\"user.home\"), \"Downloads\", \"sample_A_20160501.hdf\")\n",
    "val rawData = imklib.io.n5.openHDF5<UnsignedByteType>(\"$path\", \"volumes/raw\")\n",
    "val rawDataExtended = rawData.extendBorder().asLongs()"
   ]
  },
  {
   "cell_type": "code",
   "execution_count": 5,
   "metadata": {},
   "outputs": [],
   "source": [
    "val offsets = gradientDimensions.map { d -> Point(3).also{ p -> p.setPosition(1L, d) } }\n",
    "val firstPartialDerivatives = offsets.map { o -> \n",
    "    val diff = (rawDataExtended + o) - (rawDataExtended - o)\n",
    "    diff[rawData].cache()\n",
    "}\n",
    "val firstDerivativeMagnitude = firstPartialDerivatives\n",
    "    .map { it * it }.reduce { d1, d2 -> d1 + d2 }\n",
    "    .convert(imklib.types.double) { s, t -> t.set(sqrt(s.realDouble)) }\n",
    "    .cache()"
   ]
  },
  {
   "cell_type": "code",
   "execution_count": 6,
   "metadata": {},
   "outputs": [],
   "source": [
    "val bdv = BdvFunctions.show(rawData.volatileView, \"raw\").also { it.setDisplayRange(0.0, 255.0) }\n",
    "\n",
    "// set up BDV\n",
    "val vp = bdv.getBdvHandle().viewerPanel\n",
    "vp.state().displayMode = DisplayMode.SINGLE\n",
    "\n",
    "// add derivatives\n",
    "for ((dim, derivative) in gradientDimensions zip firstPartialDerivatives) {\n",
    "    BdvFunctions\n",
    "        .show(derivative.volatileView, \"first-derivative-$dim\", BdvOptions.options().addTo(bdv))\n",
    "        .setDisplayRange(0.0, 100.0)\n",
    "}\n",
    "BdvFunctions\n",
    "    .show(firstDerivativeMagnitude.volatileView, \"first-derivative-magnitude\", BdvOptions.options().addTo(bdv))\n",
    "    .setDisplayRange(0.0, 100.0)"
   ]
  }
 ],
 "metadata": {
  "kernelspec": {
   "display_name": "Kotlin",
   "language": "kotlin",
   "name": "kotlin"
  },
  "language_info": {
   "codemirror_mode": "text/x-kotlin",
   "file_extension": ".kt",
   "mimetype": "text/x-kotlin",
   "name": "kotlin",
   "pygments_lexer": "kotlin",
   "version": "1.4.20-dev-2342"
  }
 },
 "nbformat": 4,
 "nbformat_minor": 4
}
